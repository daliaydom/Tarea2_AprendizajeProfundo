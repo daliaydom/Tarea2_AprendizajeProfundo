{
  "cells": [
    {
      "cell_type": "markdown",
      "metadata": {
        "id": "view-in-github",
        "colab_type": "text"
      },
      "source": [
        "<a href=\"https://colab.research.google.com/github/daliaydom/Tarea2_AprendizajeProfundo/blob/main/T2Ejercicio3CNNvsRNN.ipynb\" target=\"_parent\"><img src=\"https://colab.research.google.com/assets/colab-badge.svg\" alt=\"Open In Colab\"/></a>"
      ]
    },
    {
      "cell_type": "markdown",
      "metadata": {
        "id": "-5tmzk6NOacg"
      },
      "source": [
        "# Ejercicio 3: Reconocimiento de acciones humanas usando RNNs y CNNs\n",
        "\n",
        "Dalia Yvette Domínguez Jiménez\n",
        "---\n",
        "---\n",
        "\n",
        "Se entrena un modelo basado en RNNs, como se vió en clase. También se implementa y entrena una CNN con una capa Conv1D, para reconocimiento de acciones humanas (HAR) en el conjunto [UCF11](https://www.crcv.ucf.edu/data/UCF_YouTube_Action.php). \n",
        "\n",
        "<img src=\"https://www.crcv.ucf.edu/data/youtube_snaps.jpg\" width=800/>\n",
        "\n",
        "Se utilizan las características convolucionales vistas en clase."
      ]
    },
    {
      "cell_type": "markdown",
      "metadata": {
        "id": "IWJ1QYZ8Oacu"
      },
      "source": [
        "## 1 Preparación"
      ]
    },
    {
      "cell_type": "markdown",
      "metadata": {
        "id": "2rq2FNXPOacv"
      },
      "source": [
        "### 1.1 Bibliotecas"
      ]
    },
    {
      "cell_type": "code",
      "execution_count": 1,
      "metadata": {
        "colab": {
          "base_uri": "https://localhost:8080/"
        },
        "id": "rhYelX4LOacw",
        "outputId": "37a02561-7a35-4b30-9816-9cc1af74320e"
      },
      "outputs": [
        {
          "output_type": "stream",
          "name": "stdout",
          "text": [
            "Looking in indexes: https://pypi.org/simple, https://us-python.pkg.dev/colab-wheels/public/simple/\n",
            "Collecting torchinfo\n",
            "  Downloading torchinfo-1.7.1-py3-none-any.whl (22 kB)\n",
            "Installing collected packages: torchinfo\n",
            "Successfully installed torchinfo-1.7.1\n",
            "Looking in indexes: https://pypi.org/simple, https://us-python.pkg.dev/colab-wheels/public/simple/\n",
            "Collecting zarr\n",
            "  Downloading zarr-2.12.0-py3-none-any.whl (185 kB)\n",
            "\u001b[K     |████████████████████████████████| 185 kB 4.1 MB/s \n",
            "\u001b[?25hCollecting asciitree\n",
            "  Downloading asciitree-0.3.3.tar.gz (4.0 kB)\n",
            "Collecting fasteners\n",
            "  Downloading fasteners-0.18-py3-none-any.whl (18 kB)\n",
            "Requirement already satisfied: numpy>=1.7 in /usr/local/lib/python3.7/dist-packages (from zarr) (1.21.6)\n",
            "Collecting numcodecs>=0.6.4\n",
            "  Downloading numcodecs-0.10.2-cp37-cp37m-manylinux_2_17_x86_64.manylinux2014_x86_64.whl (6.6 MB)\n",
            "\u001b[K     |████████████████████████████████| 6.6 MB 6.7 MB/s \n",
            "\u001b[?25hRequirement already satisfied: typing-extensions>=3.7.4 in /usr/local/lib/python3.7/dist-packages (from numcodecs>=0.6.4->zarr) (4.1.1)\n",
            "Requirement already satisfied: entrypoints in /usr/local/lib/python3.7/dist-packages (from numcodecs>=0.6.4->zarr) (0.4)\n",
            "Building wheels for collected packages: asciitree\n",
            "  Building wheel for asciitree (setup.py) ... \u001b[?25l\u001b[?25hdone\n",
            "  Created wheel for asciitree: filename=asciitree-0.3.3-py3-none-any.whl size=5050 sha256=2f45418379c729709b4efcb622754e04485e4b67f8ee58ce8630311f809199f8\n",
            "  Stored in directory: /root/.cache/pip/wheels/12/1c/38/0def51e15add93bff3f4bf9c248b94db0839b980b8535e72a0\n",
            "Successfully built asciitree\n",
            "Installing collected packages: numcodecs, fasteners, asciitree, zarr\n",
            "Successfully installed asciitree-0.3.3 fasteners-0.18 numcodecs-0.10.2 zarr-2.12.0\n"
          ]
        }
      ],
      "source": [
        "# Colab\n",
        "# https://github.com/TylerYep/torchinfo\n",
        "!pip install torchinfo\n",
        "# https://zarr.readthedocs.io/en/stable/\n",
        "!pip install zarr"
      ]
    },
    {
      "cell_type": "code",
      "execution_count": 2,
      "metadata": {
        "id": "Ny0L2LzogTN-"
      },
      "outputs": [],
      "source": [
        "# sistema de archivos\n",
        "import os\n",
        "# funciones aleatorias\n",
        "import random\n",
        "# descomprimir\n",
        "import tarfile\n",
        "# sistema de archivos\n",
        "from os.path import join\n",
        "\n",
        "# arreglos multidimensionales\n",
        "import numpy as np\n",
        "# redes neuronales\n",
        "import torch\n",
        "import torch.nn as nn\n",
        "import torch.nn.functional as F\n",
        "import torch.optim as optim\n",
        "import torchvision.datasets.utils as tvu\n",
        "# almacenamiento de arreglos multidimensionales\n",
        "import zarr\n",
        "#redes\n",
        "from torch.utils.data import DataLoader, random_split\n",
        "# inspección de arquitectura\n",
        "from torchinfo import summary\n",
        "\n",
        "# directorio de datos\n",
        "DATA_DIR = '../data'\n",
        "\n",
        "# tamaño del lote\n",
        "BATCH_SIZE = 32\n",
        "# tamaño del vector de características\n",
        "FEAT_SIZE = 1024\n",
        "\n",
        "# reproducibilidad\n",
        "SEED = 0\n",
        "random.seed(SEED)\n",
        "np.random.seed(SEED)\n",
        "torch_gen = torch.manual_seed(SEED)"
      ]
    },
    {
      "cell_type": "markdown",
      "metadata": {
        "id": "ijxWHO0POacz"
      },
      "source": [
        "## 2 Datos"
      ]
    },
    {
      "cell_type": "markdown",
      "metadata": {
        "id": "NJ2cr3FxOacz"
      },
      "source": [
        "### 2.1 Conjunto de datos"
      ]
    },
    {
      "cell_type": "code",
      "execution_count": 3,
      "metadata": {
        "id": "dKOAC63YOacz"
      },
      "outputs": [],
      "source": [
        "class UCF11:\n",
        "\n",
        "    def __init__(self, root, download=False):\n",
        "        self.root = root\n",
        "        self.zarr_dir = join(root, 'ucf11.zarr')\n",
        "        if download:\n",
        "            self.download()\n",
        "        self.z = zarr.open(self.zarr_dir, 'r')\n",
        "        self.paths = list(self.z.array_keys())\n",
        "        \n",
        "    def __getitem__(self, i):\n",
        "        arr = self.z[self.paths[i]]\n",
        "        x = np.array(arr)\n",
        "        y = np.array(arr.attrs['y'], dtype=np.int64)\n",
        "        return x, y\n",
        "\n",
        "    def __len__(self):\n",
        "        return len(self.paths)\n",
        "    \n",
        "    def _check_integrity(self):\n",
        "        return os.path.isdir(self.zarr_dir)\n",
        "    \n",
        "    def _extract(self, root, filename):\n",
        "        tar = tarfile.open(join(root, filename), \"r:gz\")\n",
        "        tar.extractall(root)\n",
        "        tar.close()\n",
        "\n",
        "    def download(self):\n",
        "        if self._check_integrity():\n",
        "            print('Files already downloaded and verified')\n",
        "            return\n",
        "        tvu.download_url(\n",
        "            url='https://cloud.xibalba.com.mx/s/apYrNA4iM4K65o7/download',\n",
        "            root=self.root,\n",
        "            filename='ucf11.zarr.tar.gz',\n",
        "            md5='c8a82454f9ec092d00bcd99c849e03fd'\n",
        "        )\n",
        "        self._extract(self.root, 'ucf11.zarr.tar.gz')"
      ]
    },
    {
      "cell_type": "markdown",
      "metadata": {
        "id": "1EH3mfqzOac0"
      },
      "source": [
        "### 2.2 Instancia del conjunto y partición"
      ]
    },
    {
      "cell_type": "code",
      "execution_count": 4,
      "metadata": {
        "id": "JvOlOFXhOac0",
        "colab": {
          "base_uri": "https://localhost:8080/",
          "height": 141,
          "referenced_widgets": [
            "d703f092c0fa41a6a610bd41f25194b2",
            "351c57607ae2407f86a1ed97b01013da",
            "12db253e849249fbb18775d8489b4c7f",
            "129d6737ef0c46b99ef4041f6d214c2c",
            "c7b7c435b92d479283a347c495c64c41",
            "845ea3686c42443da4f4a5889502027b",
            "a5afa4ae05b64fd4be72601c5117e75b",
            "110f4a9ff8c845b3aa59fbe70689d7e1",
            "0171b162132d4c87b2ec3e6ad4da3ced",
            "5ea289ba70fc4498a6f2466968f91708",
            "b1b22adb3b4b448e8056783865d23a1d"
          ]
        },
        "outputId": "7af306a3-48c8-499e-b654-7dc268130f44"
      },
      "outputs": [
        {
          "output_type": "stream",
          "name": "stdout",
          "text": [
            "Downloading https://cloud.xibalba.com.mx/s/apYrNA4iM4K65o7/download to ../data/ucf11/ucf11.zarr.tar.gz\n"
          ]
        },
        {
          "output_type": "display_data",
          "data": {
            "text/plain": [
              "  0%|          | 0/53436566 [00:00<?, ?it/s]"
            ],
            "application/vnd.jupyter.widget-view+json": {
              "version_major": 2,
              "version_minor": 0,
              "model_id": "d703f092c0fa41a6a610bd41f25194b2"
            }
          },
          "metadata": {}
        },
        {
          "output_type": "stream",
          "name": "stdout",
          "text": [
            "x shape=(10, 1024) dtype=float32\n",
            "x [0][:5]=[0.00022111 0.00368518 0.00314753 0.00201778 0.09296297]\n",
            "y shape=() dtype=int64 0\n",
            "y 0\n"
          ]
        }
      ],
      "source": [
        "ds = UCF11(join(DATA_DIR, 'ucf11'), True)\n",
        "x, y = ds[0]\n",
        "print(f'x shape={x.shape} dtype={x.dtype}')\n",
        "print(f'x [0][:5]={x[0][:5]}')\n",
        "print(f'y shape={y.shape} dtype={y.dtype} {y}')\n",
        "print(f'y {y}')"
      ]
    },
    {
      "cell_type": "code",
      "execution_count": 5,
      "metadata": {
        "id": "NkVb_fNSOac1",
        "colab": {
          "base_uri": "https://localhost:8080/"
        },
        "outputId": "402c15dc-4678-4bd7-9664-9413c36c8c53"
      },
      "outputs": [
        {
          "output_type": "execute_result",
          "data": {
            "text/plain": [
              "(1279, 320)"
            ]
          },
          "metadata": {},
          "execution_count": 5
        }
      ],
      "source": [
        "trn_size = int(0.8 * len(ds))\n",
        "tst_size = len(ds) - trn_size\n",
        "trn_ds, tst_ds = random_split(ds, [trn_size, tst_size])\n",
        "len(trn_ds), len(tst_ds)"
      ]
    },
    {
      "cell_type": "markdown",
      "metadata": {
        "id": "IgU1kjIKOac2"
      },
      "source": [
        "### 2.3 Cargadores de datos"
      ]
    },
    {
      "cell_type": "code",
      "execution_count": 6,
      "metadata": {
        "id": "nk3dtTvbOac2"
      },
      "outputs": [],
      "source": [
        "trn_dl = DataLoader(\n",
        "    # conjunto\n",
        "    trn_ds,\n",
        "    # tamaño del lote\n",
        "    batch_size=BATCH_SIZE,\n",
        "    # desordenar\n",
        "    shuffle=True,\n",
        "    # procesos paralelos\n",
        "    num_workers=2\n",
        ")\n",
        "tst_dl = DataLoader(\n",
        "    # conjunto\n",
        "    tst_ds,\n",
        "    # tamaño del lote\n",
        "    batch_size=BATCH_SIZE,\n",
        "    # desordenar\n",
        "    shuffle=True,\n",
        "    # procesos paralelos\n",
        "    num_workers=2\n",
        ")"
      ]
    },
    {
      "cell_type": "code",
      "execution_count": 7,
      "metadata": {
        "id": "0oFeu0qiOac4",
        "colab": {
          "base_uri": "https://localhost:8080/"
        },
        "outputId": "00f54342-7895-4dc7-be0b-7423c5a3c439"
      },
      "outputs": [
        {
          "output_type": "stream",
          "name": "stdout",
          "text": [
            "x shape=torch.Size([32, 10, 1024]) dtype=torch.float32\n",
            "y shape=torch.Size([32]) dtype=torch.int64\n"
          ]
        }
      ],
      "source": [
        "x, y = next(iter(trn_dl))\n",
        "print(f'x shape={x.shape} dtype={x.dtype}')\n",
        "print(f'y shape={y.shape} dtype={y.dtype}')"
      ]
    },
    {
      "cell_type": "markdown",
      "metadata": {
        "id": "0g9PTbMzOac4"
      },
      "source": [
        "## 3 Modelo\n",
        "\n",
        "<!-- Torchvision provee una familia de [modelos](https://pytorch.org/docs/1.6.0/torchvision/models.html#classification) preentrenados en ImageNet. Usaremos [Shufflenet V2](https://arxiv.org/abs/1807.11164), una arquitectura eficiente para clasificación de imágenes.  -->"
      ]
    },
    {
      "cell_type": "markdown",
      "metadata": {
        "id": "2LQNTUmXOac4"
      },
      "source": [
        "### 3.1 Definiciones de arquitecturas"
      ]
    },
    {
      "cell_type": "markdown",
      "metadata": {
        "id": "1uUkIgMxPIEc"
      },
      "source": [
        "#### 3.1.1 CNN"
      ]
    },
    {
      "cell_type": "markdown",
      "metadata": {
        "id": "bUdVt_KdTnC-"
      },
      "source": [
        "Definiremos el modelo como una cama Conv1D. Es habitual definir las capas de la CNN en grupos de dos para que el modelo tenga una buena oportunidad de aprender características de los datos de entrada. Las CNN aprenden muy deprisa, por lo que a veces se agrega una capa de Dropout que tiene por objeto ayudar a ralentizar el proceso de aprendizaje y, con suerte, dar lugar a un mejor modelo final. La capa de pooling reduce las características aprendidas a 1/4 de su tamaño, consolidándolas sólo en los elementos más esenciales.\n",
        "\n",
        "Después de la CNN y el pooling, las características aprendidas se aplanan a un vector largo y pasan por una capa totalmente conectada antes de la capa de salida utilizada para hacer una predicción. La capa totalmente conectada proporciona idealmente un amortiguador entre las características aprendidas y la salida con la intención de interpretar las características aprendidas antes de hacer una predicción.\n",
        "\n",
        "La definición del modelo es la siguiente."
      ]
    },
    {
      "cell_type": "code",
      "execution_count": 8,
      "metadata": {
        "id": "29FYX-TEP7uv"
      },
      "outputs": [],
      "source": [
        "class CNN(nn.Module):\n",
        "\n",
        "    def __init__(self, in_channels=10, out_channels=64, num_classes=11):\n",
        "        super(CNN, self).__init__()\n",
        "        self.num_feats = 32*512\n",
        "        # O1,O2=out_channels=out_channels\n",
        "        self.cnn= nn.Sequential(\n",
        "            # bloque conv1\n",
        "            # [N, 1, 10, 1024] => [N, 1, O 1024]\n",
        "            nn.Conv1d(in_channels=in_channels,out_channels=out_channels,kernel_size=3,padding=1),\n",
        "            # nn.Conv1d(in_channels=O1,out_channels=O2,kernel_size=3,bias=True),\n",
        "            # nn.Dropout(0.5),\n",
        "            # [N, 1, O, 1024] => [N, 1, O/2, 512]\n",
        "            nn.MaxPool2d(kernel_size=2, stride=2),\n",
        "        )\n",
        "\n",
        "        self.flatten = nn.Flatten()\n",
        "\n",
        "        self.cls = nn.Linear(self.num_feats, num_classes)\n",
        "\n",
        "    # metodo para inferencia\n",
        "    def forward(self, x):\n",
        "        x = self.cnn(x)\n",
        "        x = self.flatten(x)\n",
        "        x = self.cls(x)\n",
        "        return x"
      ]
    },
    {
      "cell_type": "code",
      "execution_count": 9,
      "metadata": {
        "colab": {
          "base_uri": "https://localhost:8080/"
        },
        "id": "ZOgH4sr6bKRD",
        "outputId": "2f88a9e7-2118-4858-ca99-c46ac4b50c7f"
      },
      "outputs": [
        {
          "output_type": "stream",
          "name": "stdout",
          "text": [
            "CNN(\n",
            "  (cnn): Sequential(\n",
            "    (0): Conv1d(10, 64, kernel_size=(3,), stride=(1,), padding=(1,))\n",
            "    (1): MaxPool2d(kernel_size=2, stride=2, padding=0, dilation=1, ceil_mode=False)\n",
            "  )\n",
            "  (flatten): Flatten(start_dim=1, end_dim=-1)\n",
            "  (cls): Linear(in_features=16384, out_features=11, bias=True)\n",
            ")\n"
          ]
        }
      ],
      "source": [
        "modelCNN = CNN()\n",
        "print(modelCNN)"
      ]
    },
    {
      "cell_type": "code",
      "execution_count": 10,
      "metadata": {
        "id": "6S3AaDQBcQT8",
        "colab": {
          "base_uri": "https://localhost:8080/"
        },
        "outputId": "62e29ec1-ea1e-46bd-e72e-0fcc6056b814"
      },
      "outputs": [
        {
          "output_type": "execute_result",
          "data": {
            "text/plain": [
              "==========================================================================================\n",
              "Layer (type:depth-idx)                   Output Shape              Param #\n",
              "==========================================================================================\n",
              "CNN                                      [1, 11]                   --\n",
              "├─Sequential: 1-1                        [1, 32, 512]              --\n",
              "│    └─Conv1d: 2-1                       [1, 64, 1024]             1,984\n",
              "│    └─MaxPool2d: 2-2                    [1, 32, 512]              --\n",
              "├─Flatten: 1-2                           [1, 16384]                --\n",
              "├─Linear: 1-3                            [1, 11]                   180,235\n",
              "==========================================================================================\n",
              "Total params: 182,219\n",
              "Trainable params: 182,219\n",
              "Non-trainable params: 0\n",
              "Total mult-adds (M): 2.21\n",
              "==========================================================================================\n",
              "Input size (MB): 0.04\n",
              "Forward/backward pass size (MB): 0.52\n",
              "Params size (MB): 0.73\n",
              "Estimated Total Size (MB): 1.29\n",
              "=========================================================================================="
            ]
          },
          "metadata": {},
          "execution_count": 10
        }
      ],
      "source": [
        "summary(modelCNN, (1, 10, 1024), device='cpu', verbose=0)"
      ]
    },
    {
      "cell_type": "markdown",
      "metadata": {
        "id": "bRrT9f02PXe6"
      },
      "source": [
        "#### 3.1.2 RNN"
      ]
    },
    {
      "cell_type": "markdown",
      "source": [
        "Se utilizó la arquitectura que se revisó en clase"
      ],
      "metadata": {
        "id": "b7C6fO-OiC_t"
      }
    },
    {
      "cell_type": "code",
      "execution_count": 11,
      "metadata": {
        "id": "U6Ai-d4WOac4"
      },
      "outputs": [],
      "source": [
        "class RNN(nn.Module):\n",
        "\n",
        "    def __init__(self, input_size=1024, hidden_size=55, num_classes=11):\n",
        "        super().__init__()\n",
        "        self.bn = nn.BatchNorm1d(input_size)\n",
        "        self.rnn = nn.GRU(input_size=input_size, hidden_size=hidden_size,\n",
        "                          num_layers=1, batch_first=True)\n",
        "        self.cls = nn.Linear(hidden_size, num_classes)\n",
        "\n",
        "    def forward(self, x):\n",
        "        # Batch, Seq, Feats, Hidden\n",
        "        # [B, S, F] => [B, F, S]\n",
        "        x = x.movedim(1, 2)\n",
        "        # [B, F, S]\n",
        "        x = self.bn(x)\n",
        "        # [B, F, S] => [B, S, F]\n",
        "        x = x.movedim(1, 2)\n",
        "        # [B, S, F] => [B, S, H]\n",
        "        x, _ = self.rnn(x)\n",
        "        # [B, S, H] => [B, H]\n",
        "        # toma el último paso, participación 1\n",
        "        x = x[:, -1, :]\n",
        "        # [B, H] = [B, 11]\n",
        "        x = self.cls(x)\n",
        "        return x"
      ]
    },
    {
      "cell_type": "code",
      "execution_count": 12,
      "metadata": {
        "id": "4zQc5Gl_Oac4",
        "colab": {
          "base_uri": "https://localhost:8080/"
        },
        "outputId": "d21c7997-f269-468f-e91c-791279e86c76"
      },
      "outputs": [
        {
          "output_type": "execute_result",
          "data": {
            "text/plain": [
              "torch.Size([1, 11])"
            ]
          },
          "metadata": {},
          "execution_count": 12
        }
      ],
      "source": [
        "model = RNN().eval()\n",
        "model(torch.zeros(1, 10, 1024)).shape"
      ]
    },
    {
      "cell_type": "markdown",
      "metadata": {
        "id": "XZTgIN1jOac5"
      },
      "source": [
        "### 3.2 Inspección de arquitectura"
      ]
    },
    {
      "cell_type": "code",
      "execution_count": 13,
      "metadata": {
        "id": "Uq4AH_Z-Oac5",
        "colab": {
          "base_uri": "https://localhost:8080/"
        },
        "outputId": "01cfab70-29dc-44c4-fdf5-c807fe4c55e5"
      },
      "outputs": [
        {
          "output_type": "execute_result",
          "data": {
            "text/plain": [
              "==========================================================================================\n",
              "Layer (type:depth-idx)                   Output Shape              Param #\n",
              "==========================================================================================\n",
              "RNN                                      [1, 11]                   --\n",
              "├─BatchNorm1d: 1-1                       [1, 1024, 10]             2,048\n",
              "├─GRU: 1-2                               [1, 10, 55]               178,365\n",
              "├─Linear: 1-3                            [1, 11]                   616\n",
              "==========================================================================================\n",
              "Total params: 181,029\n",
              "Trainable params: 181,029\n",
              "Non-trainable params: 0\n",
              "Total mult-adds (M): 1.79\n",
              "==========================================================================================\n",
              "Input size (MB): 0.04\n",
              "Forward/backward pass size (MB): 0.09\n",
              "Params size (MB): 0.72\n",
              "Estimated Total Size (MB): 0.85\n",
              "=========================================================================================="
            ]
          },
          "metadata": {},
          "execution_count": 13
        }
      ],
      "source": [
        "summary(model, (1, 10, 1024), device='cpu', verbose=0)"
      ]
    },
    {
      "cell_type": "markdown",
      "metadata": {
        "id": "_Tjz-hD9Oac5"
      },
      "source": [
        "## 4 Entrenamiento"
      ]
    },
    {
      "cell_type": "markdown",
      "metadata": {
        "id": "725gOFVAOac5"
      },
      "source": [
        "### 4.1 Ciclo de entrenamiento"
      ]
    },
    {
      "cell_type": "code",
      "execution_count": 14,
      "metadata": {
        "id": "TheNZqp_Oac6"
      },
      "outputs": [],
      "source": [
        "# optimizador\n",
        "def train(model,trn_dl,tst_dl,lr=1e-3,EPOCHS = 10):\n",
        "  opt = optim.Adam(model.parameters(), lr=lr)\n",
        "\n",
        "  # ciclo de entrenamiento\n",
        "  for epoch in range(EPOCHS):\n",
        "\n",
        "      # modelo en modo de entrenamiento\n",
        "      model.train()\n",
        "      \n",
        "      # entrenamiento de una época\n",
        "      for x, y_true in trn_dl:\n",
        "          # hacemos inferencia para obtener los logits\n",
        "          y_lgts = model(x)\n",
        "          # calculamos la pérdida\n",
        "          loss = F.cross_entropy(y_lgts, y_true)\n",
        "          # vaciamos los gradientes\n",
        "          opt.zero_grad()\n",
        "          # retropropagamos\n",
        "          loss.backward()\n",
        "          # actulizamos parámetros\n",
        "          opt.step()\n",
        "\n",
        "      # desactivamos temporalmente la gráfica de cómputo\n",
        "      with torch.no_grad():\n",
        "\n",
        "          # modelo en modo de evaluación\n",
        "          model.eval()\n",
        "          \n",
        "          losses, accs = [], []\n",
        "          # validación de la época\n",
        "          for x, y_true in tst_dl:\n",
        "              # hacemos inferencia para obtener los logits\n",
        "              y_lgts = model(x)\n",
        "              # calculamos las probabilidades\n",
        "              y_prob = F.softmax(y_lgts, 1)\n",
        "              # obtenemos la clase predicha\n",
        "              y_pred = torch.argmax(y_prob, 1)\n",
        "              \n",
        "              # calculamos la pérdida\n",
        "              loss = F.cross_entropy(y_lgts, y_true)\n",
        "              # calculamos la exactitud\n",
        "              acc = (y_true == y_pred).type(torch.float32).mean()\n",
        "\n",
        "              # guardamos históricos\n",
        "              losses.append(loss.item() * 100)\n",
        "              accs.append(acc.item() * 100)\n",
        "\n",
        "          # imprimimos métricas\n",
        "          loss = np.mean(losses)\n",
        "          acc = np.mean(accs)\n",
        "          print(f'E{epoch:2} loss={loss:6.2f} acc={acc:.2f}')"
      ]
    },
    {
      "cell_type": "markdown",
      "source": [
        "### 4.2 Entrenamiento de CNN"
      ],
      "metadata": {
        "id": "syGPdpFiZJIM"
      }
    },
    {
      "cell_type": "markdown",
      "source": [
        "Resultados de la perdida y la precisión en el conjunto de entrenamiento"
      ],
      "metadata": {
        "id": "AdJqNU3KhuB-"
      }
    },
    {
      "cell_type": "code",
      "source": [
        "train(modelCNN,trn_dl,tst_dl,lr=1e-3,EPOCHS = 15)"
      ],
      "metadata": {
        "colab": {
          "base_uri": "https://localhost:8080/"
        },
        "id": "kHHSS-sUZbJy",
        "outputId": "330e9d16-61d9-4938-a8c1-559ebac02d73"
      },
      "execution_count": 15,
      "outputs": [
        {
          "output_type": "stream",
          "name": "stdout",
          "text": [
            "E 0 loss=229.66 acc=13.12\n",
            "E 1 loss=206.54 acc=31.88\n",
            "E 2 loss=182.46 acc=37.81\n",
            "E 3 loss=179.76 acc=39.38\n",
            "E 4 loss=179.95 acc=40.31\n",
            "E 5 loss=166.30 acc=43.12\n",
            "E 6 loss=164.57 acc=43.75\n",
            "E 7 loss=161.39 acc=46.25\n",
            "E 8 loss=173.69 acc=44.06\n",
            "E 9 loss=165.77 acc=45.94\n",
            "E10 loss=162.27 acc=46.56\n",
            "E11 loss=161.53 acc=50.00\n",
            "E12 loss=159.30 acc=49.06\n",
            "E13 loss=162.94 acc=48.44\n",
            "E14 loss=164.50 acc=48.75\n"
          ]
        }
      ]
    },
    {
      "cell_type": "markdown",
      "source": [
        "### 4.3 Entrenamiento de RNN"
      ],
      "metadata": {
        "id": "kXtuRRrnZN0c"
      }
    },
    {
      "cell_type": "markdown",
      "source": [
        "Resultados de la perdida y la precisión en el conjunto de entrenamiento"
      ],
      "metadata": {
        "id": "jBYpUkzch2Dr"
      }
    },
    {
      "cell_type": "code",
      "source": [
        "train(model,trn_dl,tst_dl,lr=1e-3,EPOCHS = 15)"
      ],
      "metadata": {
        "colab": {
          "base_uri": "https://localhost:8080/"
        },
        "id": "8BUKeMZpW3e4",
        "outputId": "3f4c0ef9-5ede-468c-98d5-29c7b843cf6b"
      },
      "execution_count": 16,
      "outputs": [
        {
          "output_type": "stream",
          "name": "stdout",
          "text": [
            "E 0 loss=217.55 acc=28.75\n",
            "E 1 loss=200.82 acc=36.25\n",
            "E 2 loss=188.95 acc=40.62\n",
            "E 3 loss=181.55 acc=42.50\n",
            "E 4 loss=174.82 acc=42.50\n",
            "E 5 loss=169.09 acc=46.88\n",
            "E 6 loss=165.31 acc=46.25\n",
            "E 7 loss=165.09 acc=45.94\n",
            "E 8 loss=159.62 acc=48.12\n",
            "E 9 loss=157.02 acc=47.19\n",
            "E10 loss=159.44 acc=47.19\n",
            "E11 loss=156.01 acc=50.62\n",
            "E12 loss=157.08 acc=51.25\n",
            "E13 loss=156.70 acc=48.75\n",
            "E14 loss=156.20 acc=50.94\n"
          ]
        }
      ]
    },
    {
      "cell_type": "markdown",
      "source": [
        "## 5. Discusión\n",
        "\n",
        "Ambos modelos contienen un número de parámetros del mismo orden, lo que provoca que ambos modelos se entrenen en un tiempo muy parecido. Se utilizaron 15 epocas para entrenar los modelos y no hay una mejoría significativa en la precisión después de 11 epócas. La RNN aprennde más rápido que la CNN, aunque ambos modelos alcanzan una preción muy parecida en la época número 11. Por un lado la RNN captura y aprende direncatamente de la secuncia de imágenes de un video, mientras que la CNN lo hace indirectamente a través de la convolución, a pesar de esto último, la CNN aprende con gran velocidad, pues en la primera época tiene una precisión de 13.12 y alcanza la misma precisión que la RNN."
      ],
      "metadata": {
        "id": "xfPHSTI9W34V"
      }
    }
  ],
  "metadata": {
    "colab": {
      "collapsed_sections": [],
      "provenance": [],
      "include_colab_link": true
    },
    "kernelspec": {
      "display_name": "Python 3 (ipykernel)",
      "language": "python",
      "name": "python3"
    },
    "language_info": {
      "codemirror_mode": {
        "name": "ipython",
        "version": 3
      },
      "file_extension": ".py",
      "mimetype": "text/x-python",
      "name": "python",
      "nbconvert_exporter": "python",
      "pygments_lexer": "ipython3",
      "version": "3.10.6"
    },
    "widgets": {
      "application/vnd.jupyter.widget-state+json": {
        "d703f092c0fa41a6a610bd41f25194b2": {
          "model_module": "@jupyter-widgets/controls",
          "model_name": "HBoxModel",
          "model_module_version": "1.5.0",
          "state": {
            "_dom_classes": [],
            "_model_module": "@jupyter-widgets/controls",
            "_model_module_version": "1.5.0",
            "_model_name": "HBoxModel",
            "_view_count": null,
            "_view_module": "@jupyter-widgets/controls",
            "_view_module_version": "1.5.0",
            "_view_name": "HBoxView",
            "box_style": "",
            "children": [
              "IPY_MODEL_351c57607ae2407f86a1ed97b01013da",
              "IPY_MODEL_12db253e849249fbb18775d8489b4c7f",
              "IPY_MODEL_129d6737ef0c46b99ef4041f6d214c2c"
            ],
            "layout": "IPY_MODEL_c7b7c435b92d479283a347c495c64c41"
          }
        },
        "351c57607ae2407f86a1ed97b01013da": {
          "model_module": "@jupyter-widgets/controls",
          "model_name": "HTMLModel",
          "model_module_version": "1.5.0",
          "state": {
            "_dom_classes": [],
            "_model_module": "@jupyter-widgets/controls",
            "_model_module_version": "1.5.0",
            "_model_name": "HTMLModel",
            "_view_count": null,
            "_view_module": "@jupyter-widgets/controls",
            "_view_module_version": "1.5.0",
            "_view_name": "HTMLView",
            "description": "",
            "description_tooltip": null,
            "layout": "IPY_MODEL_845ea3686c42443da4f4a5889502027b",
            "placeholder": "​",
            "style": "IPY_MODEL_a5afa4ae05b64fd4be72601c5117e75b",
            "value": "100%"
          }
        },
        "12db253e849249fbb18775d8489b4c7f": {
          "model_module": "@jupyter-widgets/controls",
          "model_name": "FloatProgressModel",
          "model_module_version": "1.5.0",
          "state": {
            "_dom_classes": [],
            "_model_module": "@jupyter-widgets/controls",
            "_model_module_version": "1.5.0",
            "_model_name": "FloatProgressModel",
            "_view_count": null,
            "_view_module": "@jupyter-widgets/controls",
            "_view_module_version": "1.5.0",
            "_view_name": "ProgressView",
            "bar_style": "success",
            "description": "",
            "description_tooltip": null,
            "layout": "IPY_MODEL_110f4a9ff8c845b3aa59fbe70689d7e1",
            "max": 53436566,
            "min": 0,
            "orientation": "horizontal",
            "style": "IPY_MODEL_0171b162132d4c87b2ec3e6ad4da3ced",
            "value": 53436566
          }
        },
        "129d6737ef0c46b99ef4041f6d214c2c": {
          "model_module": "@jupyter-widgets/controls",
          "model_name": "HTMLModel",
          "model_module_version": "1.5.0",
          "state": {
            "_dom_classes": [],
            "_model_module": "@jupyter-widgets/controls",
            "_model_module_version": "1.5.0",
            "_model_name": "HTMLModel",
            "_view_count": null,
            "_view_module": "@jupyter-widgets/controls",
            "_view_module_version": "1.5.0",
            "_view_name": "HTMLView",
            "description": "",
            "description_tooltip": null,
            "layout": "IPY_MODEL_5ea289ba70fc4498a6f2466968f91708",
            "placeholder": "​",
            "style": "IPY_MODEL_b1b22adb3b4b448e8056783865d23a1d",
            "value": " 53436566/53436566 [00:18&lt;00:00, 4924183.48it/s]"
          }
        },
        "c7b7c435b92d479283a347c495c64c41": {
          "model_module": "@jupyter-widgets/base",
          "model_name": "LayoutModel",
          "model_module_version": "1.2.0",
          "state": {
            "_model_module": "@jupyter-widgets/base",
            "_model_module_version": "1.2.0",
            "_model_name": "LayoutModel",
            "_view_count": null,
            "_view_module": "@jupyter-widgets/base",
            "_view_module_version": "1.2.0",
            "_view_name": "LayoutView",
            "align_content": null,
            "align_items": null,
            "align_self": null,
            "border": null,
            "bottom": null,
            "display": null,
            "flex": null,
            "flex_flow": null,
            "grid_area": null,
            "grid_auto_columns": null,
            "grid_auto_flow": null,
            "grid_auto_rows": null,
            "grid_column": null,
            "grid_gap": null,
            "grid_row": null,
            "grid_template_areas": null,
            "grid_template_columns": null,
            "grid_template_rows": null,
            "height": null,
            "justify_content": null,
            "justify_items": null,
            "left": null,
            "margin": null,
            "max_height": null,
            "max_width": null,
            "min_height": null,
            "min_width": null,
            "object_fit": null,
            "object_position": null,
            "order": null,
            "overflow": null,
            "overflow_x": null,
            "overflow_y": null,
            "padding": null,
            "right": null,
            "top": null,
            "visibility": null,
            "width": null
          }
        },
        "845ea3686c42443da4f4a5889502027b": {
          "model_module": "@jupyter-widgets/base",
          "model_name": "LayoutModel",
          "model_module_version": "1.2.0",
          "state": {
            "_model_module": "@jupyter-widgets/base",
            "_model_module_version": "1.2.0",
            "_model_name": "LayoutModel",
            "_view_count": null,
            "_view_module": "@jupyter-widgets/base",
            "_view_module_version": "1.2.0",
            "_view_name": "LayoutView",
            "align_content": null,
            "align_items": null,
            "align_self": null,
            "border": null,
            "bottom": null,
            "display": null,
            "flex": null,
            "flex_flow": null,
            "grid_area": null,
            "grid_auto_columns": null,
            "grid_auto_flow": null,
            "grid_auto_rows": null,
            "grid_column": null,
            "grid_gap": null,
            "grid_row": null,
            "grid_template_areas": null,
            "grid_template_columns": null,
            "grid_template_rows": null,
            "height": null,
            "justify_content": null,
            "justify_items": null,
            "left": null,
            "margin": null,
            "max_height": null,
            "max_width": null,
            "min_height": null,
            "min_width": null,
            "object_fit": null,
            "object_position": null,
            "order": null,
            "overflow": null,
            "overflow_x": null,
            "overflow_y": null,
            "padding": null,
            "right": null,
            "top": null,
            "visibility": null,
            "width": null
          }
        },
        "a5afa4ae05b64fd4be72601c5117e75b": {
          "model_module": "@jupyter-widgets/controls",
          "model_name": "DescriptionStyleModel",
          "model_module_version": "1.5.0",
          "state": {
            "_model_module": "@jupyter-widgets/controls",
            "_model_module_version": "1.5.0",
            "_model_name": "DescriptionStyleModel",
            "_view_count": null,
            "_view_module": "@jupyter-widgets/base",
            "_view_module_version": "1.2.0",
            "_view_name": "StyleView",
            "description_width": ""
          }
        },
        "110f4a9ff8c845b3aa59fbe70689d7e1": {
          "model_module": "@jupyter-widgets/base",
          "model_name": "LayoutModel",
          "model_module_version": "1.2.0",
          "state": {
            "_model_module": "@jupyter-widgets/base",
            "_model_module_version": "1.2.0",
            "_model_name": "LayoutModel",
            "_view_count": null,
            "_view_module": "@jupyter-widgets/base",
            "_view_module_version": "1.2.0",
            "_view_name": "LayoutView",
            "align_content": null,
            "align_items": null,
            "align_self": null,
            "border": null,
            "bottom": null,
            "display": null,
            "flex": null,
            "flex_flow": null,
            "grid_area": null,
            "grid_auto_columns": null,
            "grid_auto_flow": null,
            "grid_auto_rows": null,
            "grid_column": null,
            "grid_gap": null,
            "grid_row": null,
            "grid_template_areas": null,
            "grid_template_columns": null,
            "grid_template_rows": null,
            "height": null,
            "justify_content": null,
            "justify_items": null,
            "left": null,
            "margin": null,
            "max_height": null,
            "max_width": null,
            "min_height": null,
            "min_width": null,
            "object_fit": null,
            "object_position": null,
            "order": null,
            "overflow": null,
            "overflow_x": null,
            "overflow_y": null,
            "padding": null,
            "right": null,
            "top": null,
            "visibility": null,
            "width": null
          }
        },
        "0171b162132d4c87b2ec3e6ad4da3ced": {
          "model_module": "@jupyter-widgets/controls",
          "model_name": "ProgressStyleModel",
          "model_module_version": "1.5.0",
          "state": {
            "_model_module": "@jupyter-widgets/controls",
            "_model_module_version": "1.5.0",
            "_model_name": "ProgressStyleModel",
            "_view_count": null,
            "_view_module": "@jupyter-widgets/base",
            "_view_module_version": "1.2.0",
            "_view_name": "StyleView",
            "bar_color": null,
            "description_width": ""
          }
        },
        "5ea289ba70fc4498a6f2466968f91708": {
          "model_module": "@jupyter-widgets/base",
          "model_name": "LayoutModel",
          "model_module_version": "1.2.0",
          "state": {
            "_model_module": "@jupyter-widgets/base",
            "_model_module_version": "1.2.0",
            "_model_name": "LayoutModel",
            "_view_count": null,
            "_view_module": "@jupyter-widgets/base",
            "_view_module_version": "1.2.0",
            "_view_name": "LayoutView",
            "align_content": null,
            "align_items": null,
            "align_self": null,
            "border": null,
            "bottom": null,
            "display": null,
            "flex": null,
            "flex_flow": null,
            "grid_area": null,
            "grid_auto_columns": null,
            "grid_auto_flow": null,
            "grid_auto_rows": null,
            "grid_column": null,
            "grid_gap": null,
            "grid_row": null,
            "grid_template_areas": null,
            "grid_template_columns": null,
            "grid_template_rows": null,
            "height": null,
            "justify_content": null,
            "justify_items": null,
            "left": null,
            "margin": null,
            "max_height": null,
            "max_width": null,
            "min_height": null,
            "min_width": null,
            "object_fit": null,
            "object_position": null,
            "order": null,
            "overflow": null,
            "overflow_x": null,
            "overflow_y": null,
            "padding": null,
            "right": null,
            "top": null,
            "visibility": null,
            "width": null
          }
        },
        "b1b22adb3b4b448e8056783865d23a1d": {
          "model_module": "@jupyter-widgets/controls",
          "model_name": "DescriptionStyleModel",
          "model_module_version": "1.5.0",
          "state": {
            "_model_module": "@jupyter-widgets/controls",
            "_model_module_version": "1.5.0",
            "_model_name": "DescriptionStyleModel",
            "_view_count": null,
            "_view_module": "@jupyter-widgets/base",
            "_view_module_version": "1.2.0",
            "_view_name": "StyleView",
            "description_width": ""
          }
        }
      }
    }
  },
  "nbformat": 4,
  "nbformat_minor": 0
}