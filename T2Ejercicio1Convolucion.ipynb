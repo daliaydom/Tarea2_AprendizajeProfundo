{
  "nbformat": 4,
  "nbformat_minor": 0,
  "metadata": {
    "colab": {
      "private_outputs": true,
      "provenance": [],
      "collapsed_sections": [],
      "include_colab_link": true
    },
    "kernelspec": {
      "name": "python3",
      "display_name": "Python 3"
    },
    "accelerator": "GPU"
  },
  "cells": [
    {
      "cell_type": "markdown",
      "metadata": {
        "id": "view-in-github",
        "colab_type": "text"
      },
      "source": [
        "<a href=\"https://colab.research.google.com/github/daliaydom/Tarea2_AprendizajeProfundo/blob/main/T2Ejercicio1Convolucion.ipynb\" target=\"_parent\"><img src=\"https://colab.research.google.com/assets/colab-badge.svg\" alt=\"Open In Colab\"/></a>"
      ]
    },
    {
      "cell_type": "markdown",
      "metadata": {
        "id": "85hL2cbtWiHs"
      },
      "source": [
        "# Ejercicio 1: Operación de convolución\n",
        "\n",
        "Dalia Yvette Domínguez Jiménez\n",
        "\n"
      ]
    },
    {
      "cell_type": "code",
      "metadata": {
        "id": "jHwLDelamRFq"
      },
      "source": [
        "import matplotlib.pyplot as plt\n",
        "import numpy as np\n",
        "from sklearn.datasets import load_digits\n",
        "import requests\n",
        "from io import BytesIO\n",
        "from PIL import Image"
      ],
      "execution_count": null,
      "outputs": []
    },
    {
      "cell_type": "markdown",
      "metadata": {
        "id": "W02429ROng15"
      },
      "source": [
        "## Cargamos una imagen a color"
      ]
    },
    {
      "cell_type": "code",
      "metadata": {
        "id": "LzwDywSoxpVS"
      },
      "source": [
        "url ='https://raw.githubusercontent.com/daliaydom/Tarea2_AprendizajeProfundo/main/Lena.png'\n",
        "page = requests.get(url)\n",
        "Image.open(BytesIO(page.content))"
      ],
      "execution_count": null,
      "outputs": []
    },
    {
      "cell_type": "markdown",
      "source": [
        "## La convertimos en un arreglo y normalizamos"
      ],
      "metadata": {
        "id": "Jz6qo6vx26du"
      }
    },
    {
      "cell_type": "code",
      "source": [
        "img = np.array(Image.open(BytesIO(page.content)))\n",
        "img = img / img.max()\n",
        "img.shape"
      ],
      "metadata": {
        "id": "C5LoKHPG2Uch"
      },
      "execution_count": null,
      "outputs": []
    },
    {
      "cell_type": "code",
      "source": [
        "img.dtype"
      ],
      "metadata": {
        "id": "g-0Pj4G_3HWK"
      },
      "execution_count": null,
      "outputs": []
    },
    {
      "cell_type": "markdown",
      "metadata": {
        "id": "P6QRdNNaCmc8"
      },
      "source": [
        "## Convolución y correlación cruzada\n",
        "Ahora consideremos las operación de convolución entre una imagen $I$ y un filtro $W$, la cual está definida por\n",
        "\n",
        "$$\n",
        "A_{i,j} = (\\mathbf{I} * \\mathbf{W})_{i,j} = \\sum_m \\sum_n I_{m, n} W_{i - m, j - n}\n",
        "$$\n",
        "\n",
        "La convolución es commutativa, por lo tanto \n",
        "\n",
        "$$\n",
        "A_{i,j} = (\\mathbf{W} * \\mathbf{I})_{i,j} = \\sum_m \\sum_n I_{i - m, j - n} W_{m,n}\n",
        "$$\n",
        "\n",
        "En lugar de la convolución, frecuentemente se ocupa la operación de correlación cruzada para llevar a cabo las capas convolucionales. Esta operación es similar a la convolución pero sin voltear el filtro (por lo que pierde la propiedad de conmutatividad) y está dada por\n",
        "\n",
        "$$\n",
        "A_{i,j} = (\\mathbf{W} * \\mathbf{I})_{i,j} = \\sum_m \\sum_n I_{i + m, j + n} W_{m,n} \n",
        "$$\n",
        "\n",
        "El resultado de estas operaciones es el mapa de activaciones $A(i,j)$. \n",
        "Como se muestra en la siguiente imagen, esta operación se extiende para 3 canales\n"
      ]
    },
    {
      "cell_type": "markdown",
      "source": [
        "![SNOWFALL](https://raw.githubusercontent.com/daliaydom/Tarea2_AprendizajeProfundo/main/CONV3D.png)"
      ],
      "metadata": {
        "id": "uTQAJF5XBuLb"
      }
    },
    {
      "cell_type": "code",
      "metadata": {
        "id": "JK60sSz6pMgk"
      },
      "source": [
        "def conv3d(I, W, b, stride = 1):\n",
        "  h_s = int(np.floor((I.shape[0] - W.shape[0]) / stride)) + 1\n",
        "  w_s = int(np.floor((I.shape[1] - W.shape[1]) / stride)) + 1\n",
        "  a = np.zeros((h_s, w_s))\n",
        "  for i in range(h_s):\n",
        "    for j in range(w_s):\n",
        "      I_m = I[i * stride:i * stride + W.shape[0], j * stride:j * stride + W.shape[1],:]\n",
        "      a[i, j] = (I_m * W).sum() + b                \n",
        "  return a"
      ],
      "execution_count": null,
      "outputs": []
    },
    {
      "cell_type": "markdown",
      "metadata": {
        "id": "RY9UBGoqhCDR"
      },
      "source": [
        "## Filtro\n",
        "\n",
        "Definamos un filtro de tres canales"
      ]
    },
    {
      "cell_type": "code",
      "metadata": {
        "id": "26O7xja9hDYM"
      },
      "source": [
        "N= 20\n",
        "filter1 = np.zeros([N,N,3])\n",
        "filter1[:,:,0] = np.identity(N)\n",
        "filter1[:,:,1] = np.identity(N)\n",
        "filter1[:,:,2] = np.identity(N)\n",
        "plt.imshow(filter1)"
      ],
      "execution_count": null,
      "outputs": []
    },
    {
      "cell_type": "markdown",
      "metadata": {
        "id": "xYS40PWxH7Su"
      },
      "source": [
        "Aplicando las operaciones de correlación cruzada y convolución"
      ]
    },
    {
      "cell_type": "code",
      "metadata": {
        "id": "JoyByBCuhK2Y"
      },
      "source": [
        "from scipy import signal\n",
        "ccorr = signal.correlate(img, filter1, mode = 'valid')\n",
        "ccorr2 = signal.correlate(filter1, img, mode = 'valid') \n",
        "conv = signal.convolve(img, filter1, mode = 'valid') \n",
        "conv2 = signal.convolve(filter1, img, mode = 'valid') \n",
        "a = conv3d(img, filter1, 0)\n",
        "fig, axs = plt.subplots(1, 6, figsize=(10, 5))\n",
        "axs[0].imshow(img, cmap = 'gray') \n",
        "axs[1].imshow(np.squeeze(ccorr), cmap = 'gray') \n",
        "axs[2].imshow(np.squeeze(ccorr2), cmap = 'gray') \n",
        "axs[3].imshow(np.squeeze(conv), cmap = 'gray') \n",
        "axs[4].imshow(np.squeeze(conv2), cmap = 'gray') \n",
        "axs[5].imshow(a, cmap = 'gray') \n",
        "plt.show()"
      ],
      "execution_count": null,
      "outputs": []
    },
    {
      "cell_type": "markdown",
      "metadata": {
        "id": "H9BE4QqWIX3W"
      },
      "source": [
        "Observa que el resultado de la correlación cruzada de la imagen con el filtro es diferente al del filtro con la imagen. En contraste, la convolución es conmutativa y produce el mismo resultado en ambos casos.\n",
        "\n"
      ]
    },
    {
      "cell_type": "markdown",
      "source": [
        "Comparamos los valores de los resultados de la convolución que definimos y la función utilizada"
      ],
      "metadata": {
        "id": "dVb5lXkw6Zw_"
      }
    },
    {
      "cell_type": "code",
      "source": [
        "a[:5,:5]"
      ],
      "metadata": {
        "id": "Hv4kkdLi6Z5N"
      },
      "execution_count": null,
      "outputs": []
    },
    {
      "cell_type": "code",
      "source": [
        "ccorr[:5,:5,0]"
      ],
      "metadata": {
        "id": "g9SUuNE06qyh"
      },
      "execution_count": null,
      "outputs": []
    }
  ]
}